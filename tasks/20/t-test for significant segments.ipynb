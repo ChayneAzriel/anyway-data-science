{
 "cells": [
  {
   "cell_type": "code",
   "execution_count": 29,
   "metadata": {},
   "outputs": [],
   "source": [
    "# t - test analysis to find significant segments from news-flash data"
   ]
  },
  {
   "cell_type": "code",
   "execution_count": 84,
   "metadata": {
    "collapsed": true
   },
   "outputs": [],
   "source": [
    "import pandas as pd\n",
    "from scipy.stats import ttest_ind\n",
    "import numpy as np\n",
    "\n",
    "\n",
    "sample_size = 1000000 # choose 1000 to reduce runtime\n",
    "raw_data = pd.read_csv(\"C://Users//user//PycharmProjects//anyway//data//views_2019//involved_markers_hebrew.csv\",nrows=sample_size,low_memory=False)\n"
   ]
  },
  {
   "cell_type": "code",
   "execution_count": 86,
   "metadata": {},
   "outputs": [],
   "source": [
    "input_type = 'road_segment_name' #place type: road1, accident_yishuv_name, 'road_segment_name',street1_hebrew\n",
    "input_value = 'מחלף לקייה - צומת ערד'  #place name from news flash\n",
    "filter1_column = 'road_type_hebrew' #(optional -  filter type, if not relevant write None)\n",
    "filter1_value = 'לא-עירונית לא בצומת'#(optional -  filter value, if not relevant write None)\n",
    "filter2_column = None   #(opional - another filter type, if not relevant write None)\n",
    "filter2_value = None #(optional - another filter value, if not relevant write None)\n",
    "hard_only = True# Only hard accidents?\n",
    "\n",
    "demographic_segments = [\n",
    "    'is_male',\n",
    "    'is_over_65',\n",
    "    'is_pedestrian',\n",
    "    'is_jew'\n",
    "]\n",
    "accident_segments = [\n",
    "    'is_daytime',\n",
    "    'is_summer',\n",
    "    'is_weekend',\n",
    "    'is_head-on',\n",
    "    'is_roll-over',\n",
    "    'is_hard',\n",
    "    'is_deadly'\n",
    "]\n"
   ]
  },
  {
   "cell_type": "code",
   "execution_count": 87,
   "metadata": {},
   "outputs": [
    {
     "name": "stdout",
     "output_type": "stream",
     "text": [
      "Removed 748722 rows - 0.749 that do not contain road_segment_name\n"
     ]
    }
   ],
   "source": [
    "#data cleaning \n",
    "def clean_data(data):\n",
    "    data['is_male'] = data['sex'].replace(0,np.nan).replace(2,0) #male = 1, female = 0, remove unknown\n",
    "    data['is_over_65'] = data['age_group'].replace(99,np.nan) #remove unknown\n",
    "    data['is_over_65'] = np.where(data['is_over_65']>13,1,0) #above code 13 is over 65\n",
    "    data['is_weekend'] = np.where(data['day_in_week']>5,1,0) #Fri and Sat are weekends\n",
    "    data['is_jew'] = data['population_type'].replace([2,3,4,''],0)#convert non jews to 0\n",
    "    data['is_daytime'] = data['day_night'].replace(5,0)#convert night (5) to 0\n",
    "    data['is_pedestrian'] = data['injured_type'].replace([2,3,4,5,6,7,8,9],0) #convert non pedestrian to 0, pedestrian to 1\n",
    "    data['is_summer'] = data['accident_month'].replace([10,11,12,1,2,3],0).replace([4,5,6,7,8,9],1) #convert winter to 0 ,summer to 1\n",
    "    data['is_head-on'] = np.where(data['accident_type']==5,1,0) # type 5 is headon haziti\n",
    "    data['is_hard'] = data['accident_severity'].replace(3,0).replace([1,2],1) # hard accidents will get 1\n",
    "    data['is_deadly'] = data['accident_severity'].replace([3,2],0)# deadly accidents will get 1\n",
    "    data['is_driver'] = data['injured_type'].replace([2,3,4,5,6,7,8,9],0) #convert non driver to 0, driver to 1\n",
    "    data['is_roll-over'] = np.where(data['accident_type']==10,1,0)# type 10 is roll-over\n",
    "    \n",
    "    length_before_removing_null = data.shape[0]\n",
    "    data = data[data[input_type].notnull()] # filter for not null of input type (type of place)\n",
    "    removed = length_before_removing_null-data.shape[0]\n",
    "    removed_percent = removed/length_before_removing_null\n",
    "    print(\"Removed %d rows - %.3f that do not contain %s\"%(removed, removed_percent,input_type))\n",
    "    data = data[data['involved_type'] != 1] # only NIFGAIM, not drivers\n",
    "    \n",
    "    value_dict = {} #set real values for the binary values in segments\n",
    "    value_dict['is_male'] = ('female','male')\n",
    "    value_dict['is_over_65'] = ('under_65','above_65')\n",
    "    value_dict['is_weekend'] = ('weekday','weekend')\n",
    "    value_dict['is_jew'] = ('non_jew','jew')\n",
    "    value_dict['is_daytime'] = ('night-time','day-time')\n",
    "    value_dict['is_pedestrian'] = ('not_pedestrian','pedestrian')\n",
    "    value_dict['is_summer'] = ('winter','summer')\n",
    "    value_dict['is_head-on'] = ('not head-on','head-on')\n",
    "    value_dict['is_roll-over'] = ('not roll-over','roll-over')\n",
    "    value_dict['is_hard'] = ('not hard accident','hard accident')\n",
    "    value_dict['is_deadly'] = ('not deadly','deadly accident')\n",
    "    value_dict['is_driver'] = ('not driver','driver')\n",
    "    if filter1_value is not None:\n",
    "        data = data[data[filter1_column] == filter1_value] # apply filter 1\n",
    "    if filter2_value is not None:\n",
    "        data = data[data[filter2_column] == filter2_value] # apply filter 2\n",
    "    if hard_only:\n",
    "        data = data[data['accident_severity']<3]  # apply filter of severity. under 3 its serious injury and death\n",
    "    return data,value_dict\n",
    "\n",
    "acc_data, value_dict = clean_data(raw_data)\n"
   ]
  },
  {
   "cell_type": "code",
   "execution_count": 88,
   "metadata": {},
   "outputs": [],
   "source": [
    "def analyse_segment(data,i):\n",
    "    message = None\n",
    "    result = None  \n",
    "    filtered_acc_data = data[data[input_type]==input_value] #table of only the value chosen (road number 90 for example)\n",
    "    all_rows = data[i].dropna().reset_index(drop=True) #only the segment column\n",
    "    filtered_rows = data[acc_data[input_type]==input_value][i].dropna() #only the segment column  - filtered\n",
    "    s,p = ttest_ind(all_rows,filtered_rows) # ttest for the segment columns\n",
    "    if p > 0.1 or np.isnan(p):\n",
    "        return message,result\n",
    "    percent_filtered = 'percent_of_filtered' #create column name for percent in segmented data\n",
    "    count_filtered = \"count_of_filtered\"#create column name for count in segmented data\n",
    "    acc_data_tmp = data.groupby(i).size().reset_index().rename(columns={0: \"count\"}) #create groupby table\n",
    "    acc_data_tmp['percent'] = acc_data_tmp[\"count\"]/acc_data_tmp[\"count\"].sum() # create percent column\n",
    "    acc_data_tmp['percent'] = acc_data_tmp['percent'].astype(float).map(lambda n: '{:.0%}'.format(n)) #convert to percent format\n",
    "    filtered_acc_data_tmp =  filtered_acc_data.groupby(i).size().reset_index().rename(columns={0: count_filtered})\n",
    "    filtered_acc_data_tmp[percent_filtered] = \\\n",
    "        filtered_acc_data_tmp[count_filtered]/filtered_acc_data_tmp[count_filtered].sum()\n",
    "    filtered_acc_data_tmp[percent_filtered] = filtered_acc_data_tmp[percent_filtered].astype(float).map(lambda n: '{:.0%}'.format(n))\n",
    "    final_table = pd.concat([acc_data_tmp, filtered_acc_data_tmp.drop(i,axis = 1)], axis=1, sort=False)\n",
    "    if final_table.isnull().values.any():\n",
    "        return message,result\n",
    "    for j in range(len(final_table)):\n",
    "        filtered_percent = float(final_table.loc[j,percent_filtered].strip('%'))/100\n",
    "        original_percent = float(final_table.loc[j,'percent'].strip('%'))/100\n",
    "        if original_percent == 0:\n",
    "            break \n",
    "        if filtered_percent/original_percent > 1.3: #if the difference is significant  - tell me\n",
    "            message = \"The percentage of %s is higher than average in %s (%s vs. %s)\"\\\n",
    "                      %(value_dict[i][j],'{:.0%}'.format(filtered_percent/original_percent-1),'{:.0%}'.format(filtered_percent),'{:.0%}'.format(original_percent))\n",
    "            result = final_table   \n",
    "    return message,result\n",
    "    "
   ]
  },
  {
   "cell_type": "code",
   "execution_count": 83,
   "metadata": {},
   "outputs": [
    {
     "name": "stdout",
     "output_type": "stream",
     "text": [
      "********General*******\n\nChecking significance for accidents when {road_segment_name} is {מחלף לקייה - צומת ערד}\nFilters:\nroad_type_hebrew = לא-עירונית לא בצומת\naccident severity = hard\n\n*******Significant segments - demographics*******\n\nThe percentage of pedestrian is higher than average in 140% (12% vs. 5%)\nThe percentage of non_jew is higher than average in 61% (71% vs. 44%)\n\n*******Significant segments - accident features*******\n\nThe percentage of night-time is higher than average in 40% (56% vs. 40%)\nThe percentage of deadly accident is higher than average in 85% (50% vs. 27%)\n\n*******Significant segments in details*******\n\n is_pedestrian  count percent  count_מחלף לקייה - צומת ערד percent_מחלף לקייה - צומת ערד\n             0   9221     95%                          137                           88%\n             1    467      5%                           19                           12%\n is_jew  count percent  count_מחלף לקייה - צומת ערד percent_מחלף לקייה - צומת ערד\n      0   4278     44%                          110                           71%\n      1   5410     56%                           46                           29%\n is_daytime  count percent  count_מחלף לקייה - צומת ערד percent_מחלף לקייה - צומת ערד\n          0   1901     40%                           36                           56%\n          1   2846     60%                           28                           44%\n is_deadly  count percent  count_מחלף לקייה - צומת ערד percent_מחלף לקייה - צומת ערד\n         0   3472     73%                           32                           50%\n         1   1275     27%                           32                           50%\n\n\n"
     ]
    },
    {
     "name": "stderr",
     "output_type": "stream",
     "text": [
      "c:\\Users\\user\\Anaconda3\\lib\\site-packages\\scipy\\stats\\_distn_infrastructure.py:877: RuntimeWarning: invalid value encountered in greater\n  return (self.a < x) & (x < self.b)\nc:\\Users\\user\\Anaconda3\\lib\\site-packages\\scipy\\stats\\_distn_infrastructure.py:877: RuntimeWarning: invalid value encountered in less\n  return (self.a < x) & (x < self.b)\nc:\\Users\\user\\Anaconda3\\lib\\site-packages\\scipy\\stats\\_distn_infrastructure.py:1831: RuntimeWarning: invalid value encountered in less_equal\n  cond2 = cond0 & (x <= self.a)\n"
     ]
    }
   ],
   "source": [
    "\n",
    "print(\"********General*******\\n\")\n",
    "print(\f"Checking significance for accidents when {input_type} is {input_value}")\n",
    "print(\"Filters:\")\n",
    "if filter1_value is not None:\n",
    "    print(\"%s = %s\"%(filter1_column,filter1_value))\n",
    "if filter2_value is not None:\n",
    "    print(\"%s = %s\"%(filter2_column,filter2_value))\n",
    "if hard_only:\n",
    "    print(\"accident severity = hard\")\n",
    "print(\"\\n*******Significant segments - demographics*******\\n\")\n",
    "results_container = []\n",
    "for i in demographic_segments:\n",
    "    message,result = analyse_segment(acc_data,i)\n",
    "    if message is not None:\n",
    "        print(message)\n",
    "    if result is not None:\n",
    "        results_container.append(result)\n",
    "print(\"\\n*******Significant segments - accident features*******\\n\")\n",
    "length_before_removing_null = acc_data.shape[0]\n",
    "acc_data = acc_data.drop_duplicates(subset =\"provider_and_id\") \n",
    "removed = length_before_removing_null-acc_data.shape[0]\n",
    "removed_percent = removed/length_before_removing_null\n",
    "#print(\"Removed %d rows - %.3f that have duplicate provider_and_id\"%(removed, removed_percent))\n",
    "for i in accident_segments:\n",
    "    message,result = analyse_segment(acc_data,i)\n",
    "    if message is not None:\n",
    "        print(message)\n",
    "    if result is not None:\n",
    "        results_container.append(result)\n",
    "print(\"\\n*******Significant segments in details*******\\n\")\n",
    "for r in results_container:\n",
    "    print(r.to_string(index=False))\n",
    "print(\"\\n\")\n"
   ]
  },
  {
   "cell_type": "code",
   "execution_count": 25,
   "metadata": {},
   "outputs": [],
   "source": []
  },
  {
   "cell_type": "code",
   "execution_count": null,
   "metadata": {},
   "outputs": [],
   "source": []
  }
 ],
 "metadata": {
  "kernelspec": {
   "display_name": "Python 2",
   "language": "python",
   "name": "python2"
  },
  "language_info": {
   "codemirror_mode": {
    "name": "ipython",
    "version": 2
   },
   "file_extension": ".py",
   "mimetype": "text/x-python",
   "name": "python",
   "nbconvert_exporter": "python",
   "pygments_lexer": "ipython2",
   "version": "2.7.6"
  }
 },
 "nbformat": 4,
 "nbformat_minor": 0
}
