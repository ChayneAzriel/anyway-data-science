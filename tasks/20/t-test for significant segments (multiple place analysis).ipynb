{
 "cells": [
  {
   "cell_type": "code",
   "execution_count": 225,
   "metadata": {
    "collapsed": true
   },
   "outputs": [],
   "source": [
    "# t - test analysis to find significant features of a specific road segment (or municipality) compared to all other road segments (or municipalities).\n",
    "# output is list of streets / roads / road segments and their outstanding values\n",
    "\n",
    "\n",
    "import pandas as pd\n",
    "from scipy.stats import ttest_ind\n",
    "import numpy as np\n",
    "\n",
    "sample_size = 10000000 # choose 1000 to reduce runtime\n",
    "raw_data = pd.read_csv(\"C://Users//user//PycharmProjects//anyway//data//views_2019//involved_markers_hebrew.csv\",nrows=sample_size,low_memory=False)"
   ]
  },
  {
   "cell_type": "code",
   "execution_count": 229,
   "metadata": {},
   "outputs": [],
   "source": [
    "# get list of top X groups of category Y (top 20 yishiuvim)\n",
    "def get_top(number,category):\n",
    "    top_list= raw_data.groupby(category).size().reset_index().rename(columns={0: \"count\"}).sort_values(by='count',ascending=False)\n",
    "    return top_list.head(number)[category]\n",
    "\n",
    "#segments to analyze (everything is optional, remove segments that create unuseful output\n",
    "demographic_segments = [\n",
    "    'is_male',\n",
    "    'is_over_70',\n",
    "    'is_under_14',\n",
    "   # 'is_pedestrian'\n",
    "   # ,'is_jew'\n",
    "]\n",
    "accident_segments = [\n",
    "    'is_daytime',\n",
    "    'is_summer',\n",
    "    'is_weekend',\n",
    "    'is_head-on',\n",
    "    'is_roll-over',\n",
    "    'is_hard',\n",
    "    'is_deadly',\n",
    "    'is_animal',\n",
    "    'is_truck',\n",
    "    'is_electric'\n",
    "    \n",
    "]\n",
    "\n"
   ]
  },
  {
   "cell_type": "code",
   "execution_count": 230,
   "metadata": {},
   "outputs": [],
   "source": [
    "#data cleaning \n",
    "def clean_data(data,category):\n",
    "    data['is_male'] = data['sex'].replace(0,np.nan).replace(2,0) #male = 1, female = 0, remove unknown\n",
    "    data['is_over_70'] = data['age_group'].replace(99,np.nan) #remove unknown\n",
    "    data['is_over_70'] = np.where(data['is_over_70']>14,1,0) #above code 14 is over 70\n",
    "    data['is_under_14'] = data['age_group'].replace(99,np.nan) #remove unknown\n",
    "    data['is_under_14'] = np.where(data['is_under_14']<4,1,0) #under code 4 is over 14\n",
    "    data['is_weekend'] = np.where(data['day_in_week']>5,1,0) #Fri and Sat are weekends\n",
    "    data['is_jew'] = data['population_type'].replace([2,3,4,''],0)#convert non jews to 0\n",
    "    data['is_daytime'] = data['day_night'].replace(5,0)#convert night (5) to 0\n",
    "    data['is_pedestrian'] = data['injured_type'].replace([2,3,4,5,6,7,8,9],0) #convert non pedestrian to 0, pedestrian to 1\n",
    "    data['is_summer'] = data['accident_month'].replace([10,11,12,1,2,3],0).replace([4,5,6,7,8,9],1) #convert winter to 0 ,summer to 1\n",
    "    data['is_head-on'] = np.where(data['accident_type']==5,1,0) # type 5 is headon (TEUNA HAZITIT)\n",
    "    data['is_animal'] = np.where(data['accident_type']==19,1,0) # type 19 is animal crash\n",
    "    data['is_hard'] = data['accident_severity'].replace(3,0).replace([1,2],1) # hard accidents will get 1\n",
    "    data['is_deadly'] = data['accident_severity'].replace([3,2],0)# deadly accidents will get 1\n",
    "    data['is_driver'] = data['injured_type'].replace([2,3,4,5,6,7,8,9],0) #convert non drivers to 0, drivers to 1\n",
    "    data['is_roll-over'] = np.where(data['accident_type']==10,1,0)# type 10 is roll-over\n",
    "    data['is_motorcycle'] = np.where((data['vehicle_vehicle_type']>7) & (data['vehicle_vehicle_type']<11),1,0) # numbers that represent motorcycle\n",
    "    data['is_truck'] = np.where((data['vehicle_vehicle_type']>3) & (data['vehicle_vehicle_type']<8),1,0) # numbers that represent truck\n",
    "    data['is_electric'] = np.where((data['vehicle_vehicle_type']>20) & (data['vehicle_vehicle_type']<24),1,0) # numbers that represent truck\n",
    "   \n",
    "    data['full_street1_hebrew'] = data['accident_yishuv_name'] +\"_\" + data['street1_hebrew'] # new column of city+street name\n",
    "    \n",
    "    data = data[data[category].notnull()] # filter for not null of input type (type of place)\n",
    "    \n",
    "    data = data[data['involved_type'] != 1] # only NIFGAIM, not drivers\n",
    "    \n",
    "    data = data[data['accident_year'] >2008] # play with the dates\n",
    "    \n",
    "    #set real values for the binary values in segments\n",
    "    \n",
    "    value_dict = {} \n",
    "    value_dict['is_male'] = ('נקבה','זכר')\n",
    "    value_dict['is_over_70'] = ('מתחת_70','מעל_70')\n",
    "    value_dict['is_under_14'] = ('מעל_14','מתחת_14')\n",
    "    value_dict['is_weekend'] = ('ימי_השבוע','סוף_שבוע')\n",
    "    value_dict['is_jew'] = ('לא_יהודי','יהודי')\n",
    "    value_dict['is_daytime'] = ('שעות_הלילה','שעות_היום')\n",
    "    value_dict['is_pedestrian'] = ('לא_הולך_רגל','הולך_רגל')\n",
    "    value_dict['is_summer'] = ('חורף','קיץ')\n",
    "    value_dict['is_head-on'] = ('לא_התנגשות_חזיתית','התנגשות_חזיתית')\n",
    "    value_dict['is_roll-over'] = ('לא_התהפכות','התהפכות')\n",
    "    value_dict['is_hard'] = ('פגיעה_קלה','פגיעה_קשה')\n",
    "    value_dict['is_deadly'] = ('תאונה_לא_קטלנית','תאונה_קטלנית')\n",
    "    value_dict['is_driver'] = ('לא_נהג','נהג')\n",
    "    value_dict['is_animal'] = ('לא_פגיעה_בבעל_חיים','פגיעה_בבעל_חיים')\n",
    "    value_dict['is_motorcycle'] = ('לא_אופנוע','אופנוע')\n",
    "    value_dict['is_truck'] = ('לא_משאית','משאית')\n",
    "    value_dict['is_electric'] = ('לא_דו_גלגלי_חשמלי','דו_גלגלי_חשמלי')\n",
    "    \n",
    "    #if category is intercity - compare only to intercity accidents, if its innercity - compare to innercity\n",
    "    \n",
    "    if category == 'road_segment_name':\n",
    "        data = data[data['road_type_hebrew'].isin(['לא-עירונית לא בצומת','לא-עירונית בצומת'])] \n",
    "    if category == 'accident_yishuv_name':\n",
    "        data = data[data['road_type_hebrew'].isin(['עירונית לא בצומת','עירונית בצומת'])]\n",
    "    if category == 'full_street1_hebrew':\n",
    "        data = data[data['road_type_hebrew'].isin(['עירונית לא בצומת','עירונית בצומת'])]\n",
    "        \n",
    "    # create data table that contains only unique accidents - for analysing accident segments\n",
    "    \n",
    "    data_unique = data.drop_duplicates(subset =\"provider_and_id\") \n",
    "    \n",
    "    return data,data_unique,value_dict\n",
    "    \n",
    "\n",
    "\n",
    "\n"
   ]
  },
  {
   "cell_type": "code",
   "execution_count": 231,
   "metadata": {},
   "outputs": [],
   "source": [
    "# function for analysing segments\n",
    "def analyse_segment(data,segment,location,category):\n",
    "    result = []\n",
    "    filtered_data = data[data[category]==location] #table of only the value chosen (MIKTA X for example)\n",
    "    all_rows = data[segment].dropna().reset_index(drop=True) #only the segment column\n",
    "    filtered_rows = filtered_data[segment].dropna() #only the segment column  - filtered data\n",
    "    s,p = ttest_ind(all_rows,filtered_rows,nan_policy='omit') # ttest for the segment columns\n",
    "    if p > 0.1 or np.isnan(p):\n",
    "        return result\n",
    "    percent_filtered = 'percent_of_filtered' #create column name for percent in segmented data\n",
    "    count_filtered = \"count_of_filtered\"#create column name for count in segmented data\n",
    "    acc_data_tmp = data.groupby(segment).size().reset_index().rename(columns={0: \"count\"}) #create groupby table\n",
    "    acc_data_tmp['percent'] = acc_data_tmp[\"count\"]/acc_data_tmp[\"count\"].sum() # create percent column\n",
    "    acc_data_tmp['percent'] = acc_data_tmp['percent'].astype(float).map(lambda n: '{:.0%}'.format(n)) #convert to percent format\n",
    "    filtered_acc_data_tmp =  filtered_data.groupby(segment).size().reset_index().rename(columns={0: count_filtered})\n",
    "    filtered_acc_data_tmp[percent_filtered] = \\\n",
    "        filtered_acc_data_tmp[count_filtered]/filtered_acc_data_tmp[count_filtered].sum()\n",
    "    filtered_acc_data_tmp[percent_filtered] = filtered_acc_data_tmp[percent_filtered].astype(float).map(lambda n: '{:.0%}'.format(n))\n",
    "    \n",
    "    #create new table: rows: 0,1 (values of specific segment). columns: count of accidents, percent of accidents per total accidents and per filtered accidents\n",
    "    final_table = pd.concat([acc_data_tmp, filtered_acc_data_tmp.drop(segment,axis = 1)], axis=1, sort=False)\n",
    "    if final_table.isnull().values.any():\n",
    "        return result\n",
    "    for j in range(len(final_table)):\n",
    "        filtered_count = final_table.loc[j,count_filtered]\n",
    "        filtered_percent = float(final_table.loc[j,percent_filtered].strip('%'))/100\n",
    "        original_percent = float(final_table.loc[j,'percent'].strip('%'))/100\n",
    "        if original_percent == 0:\n",
    "            return result\n",
    "        if (filtered_percent - original_percent > 0.10 or filtered_percent/original_percent > 2) and filtered_percent > 0.04 and filtered_count > 20: #if the difference is significant  - tell me\n",
    "            significant_segment = value_dict[segment][j]\n",
    "            percents = 'Number of accidents: {:d} = {:.0%} vs. {:.0%}'.format(filtered_count,filtered_percent,original_percent)\n",
    "            result.append(significant_segment)\n",
    "            result.append(percents)\n",
    "            return result\n",
    "    "
   ]
  },
  {
   "cell_type": "code",
   "execution_count": 232,
   "metadata": {
    "collapsed": true
   },
   "outputs": [
    {
     "name": "stdout",
     "output_type": "stream",
     "text": [
      "\n******************************************************\nCategory: full_street1_hebrew\n******************************************************\n"
     ]
    },
    {
     "name": "stdout",
     "output_type": "stream",
     "text": [
      "=====================\nתל אביב -יפו_יפת\n=====================\n['סוף_שבוע', 'Number of accidents: 297 = 28% vs. 18%']\n"
     ]
    },
    {
     "name": "stdout",
     "output_type": "stream",
     "text": [
      "=====================\nתל אביב -יפו_דרך שלמה\n=====================\n['זכר', 'Number of accidents: 704 = 71% vs. 56%']\n"
     ]
    },
    {
     "name": "stdout",
     "output_type": "stream",
     "text": [
      "=====================\nירושלים_בית חנינה החדשה\n=====================\n['מתחת_14', 'Number of accidents: 252 = 23% vs. 9%']\n"
     ]
    },
    {
     "name": "stdout",
     "output_type": "stream",
     "text": [
      "\n******************************************************\nCategory: road_segment_name\n******************************************************\n"
     ]
    },
    {
     "name": "stdout",
     "output_type": "stream",
     "text": [
      "=====================\nצומת יסיף - צומת כברי\n=====================\n['סוף_שבוע', 'Number of accidents: 400 = 32% vs. 20%']\n"
     ]
    },
    {
     "name": "stdout",
     "output_type": "stream",
     "text": [
      "=====================\nצומת יבור - צומת חנא\n=====================\n['התנגשות_חזיתית', 'Number of accidents: 72 = 8% vs. 3%']\n"
     ]
    },
    {
     "name": "stdout",
     "output_type": "stream",
     "text": [
      "=====================\nמחלף לקייה - צומת ערד\n=====================\n['התהפכות', 'Number of accidents: 61 = 7% vs. 3%']\n['תאונה_קטלנית', 'Number of accidents: 41 = 5% vs. 1%']\n"
     ]
    },
    {
     "name": "stdout",
     "output_type": "stream",
     "text": [
      "=====================\nצומת לאלפי מנשה - יישוב שכם\n=====================\n['התנגשות_חזיתית', 'Number of accidents: 97 = 12% vs. 3%']\n"
     ]
    },
    {
     "name": "stdout",
     "output_type": "stream",
     "text": [
      "=====================\nכניסה למצפה שלם - צומת שדי תרומות\n=====================\n['התנגשות_חזיתית', 'Number of accidents: 79 = 12% vs. 3%']\n['התהפכות', 'Number of accidents: 140 = 21% vs. 3%']\n['פגיעה_קשה', 'Number of accidents: 99 = 15% vs. 6%']\n['תאונה_קטלנית', 'Number of accidents: 34 = 5% vs. 1%']\n"
     ]
    },
    {
     "name": "stdout",
     "output_type": "stream",
     "text": [
      "=====================\nמחלף בן שמן - ב' - מחלף נחשונים\n=====================\n['משאית', 'Number of accidents: 38 = 7% vs. 2%']\n"
     ]
    },
    {
     "name": "stdout",
     "output_type": "stream",
     "text": [
      "=====================\nמחלף ינאי - מחלף אולגה\n=====================\n['סוף_שבוע', 'Number of accidents: 178 = 31% vs. 20%']\n"
     ]
    },
    {
     "name": "stdout",
     "output_type": "stream",
     "text": [
      "=====================\nצומת דימונה - צומת בית אשל\n=====================\n['התהפכות', 'Number of accidents: 71 = 10% vs. 3%']\n"
     ]
    },
    {
     "name": "stdout",
     "output_type": "stream",
     "text": [
      "\n******************************************************\nCategory: road1\n******************************************************\n"
     ]
    },
    {
     "name": "stdout",
     "output_type": "stream",
     "text": [
      "=====================\n6.0\n=====================\n['משאית', 'Number of accidents: 244 = 6% vs. 2%']\n"
     ]
    },
    {
     "name": "stdout",
     "output_type": "stream",
     "text": [
      "=====================\n60.0\n=====================\n['התנגשות_חזיתית', 'Number of accidents: 426 = 11% vs. 3%']\n"
     ]
    },
    {
     "name": "stdout",
     "output_type": "stream",
     "text": [
      "=====================\n90.0\n=====================\n['התהפכות', 'Number of accidents: 343 = 12% vs. 3%']\n"
     ]
    },
    {
     "name": "stdout",
     "output_type": "stream",
     "text": [
      "=====================\n25.0\n=====================\n['התהפכות', 'Number of accidents: 178 = 9% vs. 3%']\n"
     ]
    },
    {
     "name": "stdout",
     "output_type": "stream",
     "text": [
      "=====================\n35.0\n=====================\n['התהפכות', 'Number of accidents: 75 = 7% vs. 3%']\n"
     ]
    },
    {
     "name": "stdout",
     "output_type": "stream",
     "text": [
      "=====================\n31.0\n=====================\n['התהפכות', 'Number of accidents: 110 = 8% vs. 3%']\n['פגיעה_קשה', 'Number of accidents: 149 = 11% vs. 5%']\n['תאונה_קטלנית', 'Number of accidents: 62 = 5% vs. 1%']\n"
     ]
    },
    {
     "name": "stdout",
     "output_type": "stream",
     "text": [
      "=====================\n55.0\n=====================\n['התנגשות_חזיתית', 'Number of accidents: 108 = 10% vs. 3%']\n"
     ]
    },
    {
     "name": "stdout",
     "output_type": "stream",
     "text": [
      "=====================\n784.0\n=====================\n['התנגשות_חזיתית', 'Number of accidents: 79 = 9% vs. 3%']\n"
     ]
    },
    {
     "name": "stdout",
     "output_type": "stream",
     "text": [
      "=====================\n805.0\n=====================\n['התנגשות_חזיתית', 'Number of accidents: 73 = 8% vs. 3%']\n"
     ]
    },
    {
     "name": "stdout",
     "output_type": "stream",
     "text": [
      "=====================\n232.0\n=====================\n['התהפכות', 'Number of accidents: 89 = 12% vs. 3%']\n['משאית', 'Number of accidents: 33 = 5% vs. 2%']\n"
     ]
    },
    {
     "name": "stdout",
     "output_type": "stream",
     "text": [
      "=====================\n71.0\n=====================\n['התנגשות_חזיתית', 'Number of accidents: 43 = 9% vs. 3%']\n['פגיעה_קשה', 'Number of accidents: 65 = 14% vs. 5%']\n"
     ]
    },
    {
     "name": "stdout",
     "output_type": "stream",
     "text": [
      "=====================\n437.0\n=====================\n['התנגשות_חזיתית', 'Number of accidents: 81 = 14% vs. 3%']\n=====================\n574.0\n=====================\n['התנגשות_חזיתית', 'Number of accidents: 43 = 8% vs. 3%']\n"
     ]
    },
    {
     "name": "stdout",
     "output_type": "stream",
     "text": [
      "=====================\n446.0\n=====================\n['התנגשות_חזיתית', 'Number of accidents: 51 = 9% vs. 3%']\n"
     ]
    },
    {
     "name": "stdout",
     "output_type": "stream",
     "text": [
      "=====================\n505.0\n=====================\n['התנגשות_חזיתית', 'Number of accidents: 48 = 8% vs. 3%']\n['התהפכות', 'Number of accidents: 44 = 8% vs. 3%']\n['פגיעה_קשה', 'Number of accidents: 64 = 11% vs. 5%']\n"
     ]
    },
    {
     "name": "stdout",
     "output_type": "stream",
     "text": [
      "=====================\n854.0\n=====================\n['פגיעה_בבעל_חיים', 'Number of accidents: 27 = 5% vs. 1%']\n=====================\n34.0\n=====================\n['התהפכות', 'Number of accidents: 48 = 10% vs. 3%']\n"
     ]
    },
    {
     "name": "stdout",
     "output_type": "stream",
     "text": [
      "=====================\n672.0\n=====================\n['סוף_שבוע', 'Number of accidents: 137 = 31% vs. 20%']\n['התנגשות_חזיתית', 'Number of accidents: 57 = 13% vs. 3%']\n=====================\n9998.0\n=====================\n['התהפכות', 'Number of accidents: 59 = 10% vs. 3%']\n"
     ]
    }
   ],
   "source": [
    "for category in ['full_street1_hebrew','road_segment_name','road1']:\n",
    "    data,data_unique,value_dict = clean_data(raw_data,category)\n",
    "    top_list = get_top(50,category)\n",
    "    print(\"\\n******************************************************\")\n",
    "    print(\"Category:\",category)\n",
    "    print(\"******************************************************\")\n",
    "    for i in top_list:\n",
    "        list = []\n",
    "        for j in demographic_segments:\n",
    "            result = analyse_segment(data,j,i,category)\n",
    "            if result:\n",
    "                list.append(result)\n",
    "        for j in accident_segments:\n",
    "            result = analyse_segment(data_unique,j,i,category)\n",
    "            if result:\n",
    "                list.append(result)\n",
    "        if list:\n",
    "            print(\"=====================\")\n",
    "            print(i)\n",
    "            print(\"=====================\")\n",
    "            for x in list:\n",
    "                print (x)\n",
    "            "
   ]
  },
  {
   "cell_type": "code",
   "execution_count": null,
   "metadata": {},
   "outputs": [],
   "source": []
  }
 ],
 "metadata": {
  "kernelspec": {
   "display_name": "Python 2",
   "language": "python",
   "name": "python2"
  },
  "language_info": {
   "codemirror_mode": {
    "name": "ipython",
    "version": 2
   },
   "file_extension": ".py",
   "mimetype": "text/x-python",
   "name": "python",
   "nbconvert_exporter": "python",
   "pygments_lexer": "ipython2",
   "version": "2.7.6"
  }
 },
 "nbformat": 4,
 "nbformat_minor": 0
}
