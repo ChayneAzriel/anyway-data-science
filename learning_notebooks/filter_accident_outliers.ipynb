{
 "cells": [
  {
   "cell_type": "markdown",
   "metadata": {},
   "source": [
    "## Imports"
   ]
  },
  {
   "cell_type": "code",
   "execution_count": 1,
   "metadata": {},
   "outputs": [],
   "source": [
    "# note: must run in virtual environment\n",
    "import os\n",
    "import sys\n",
    "venv_path = os.environ['VIRTUAL_ENV']\n",
    "sys.path.append(os.path.join(os.environ['VIRTUAL_ENV'], \"lib\\site-packages\"))"
   ]
  },
  {
   "cell_type": "code",
   "execution_count": 2,
   "metadata": {},
   "outputs": [],
   "source": [
    "import numpy as np\n",
    "import pandas as pd\n",
    "from scipy import stats"
   ]
  },
  {
   "cell_type": "markdown",
   "metadata": {},
   "source": [
    "## Consts"
   ]
  },
  {
   "cell_type": "code",
   "execution_count": 8,
   "metadata": {},
   "outputs": [],
   "source": [
    "PROVIDER_AND_ID = \"provider_and_id\"\n",
    "CITY = \"accident_yishuv_name\"\n",
    "LAT = \"latitude\"\n",
    "LONG = \"longitude\"\n",
    "X = \"x\"\n",
    "Y = \"y\"\n",
    "\n",
    "# heuristic threshold\n",
    "Z_SCORE_THRESH = 1.3"
   ]
  },
  {
   "cell_type": "markdown",
   "metadata": {},
   "source": [
    "## Load data"
   ]
  },
  {
   "cell_type": "code",
   "execution_count": 4,
   "metadata": {},
   "outputs": [
    {
     "name": "stderr",
     "output_type": "stream",
     "text": [
      "c:\\users\\asya\\appdata\\local\\programs\\python\\python37\\lib\\site-packages\\IPython\\core\\interactiveshell.py:3051: DtypeWarning: Columns (36,38,40,44,91,93,130,144,153) have mixed types. Specify dtype option on import or set low_memory=False.\n",
      "  interactivity=interactivity, compiler=compiler, result=result)\n"
     ]
    }
   ],
   "source": [
    "csv_path = \"involved_markers_hebrew.csv\"\n",
    "data = pd.read_csv(csv_path)"
   ]
  },
  {
   "cell_type": "code",
   "execution_count": 7,
   "metadata": {},
   "outputs": [],
   "source": [
    "# get only relevant data\n",
    "filtered = data[[PROVIDER_AND_ID, CITY, LAT, LONG, X, Y]]"
   ]
  },
  {
   "cell_type": "markdown",
   "metadata": {},
   "source": [
    "## Find outliers by zscore"
   ]
  },
  {
   "cell_type": "code",
   "execution_count": 9,
   "metadata": {},
   "outputs": [
    {
     "name": "stdout",
     "output_type": "stream",
     "text": [
      "         provider_and_id accident_yishuv_name   latitude  longitude\n",
      "1160953      32015014211                 אילת  32.033076  34.849533\n",
      "1160954      32015014211                 אילת  32.033076  34.849533\n",
      "1275071      32015091965                 אילת  32.033076  34.849533\n",
      "1397638      32016075888                 אילת  32.033076  34.849533\n",
      "1397639      32016075888                 אילת  32.033076  34.849533\n",
      "1515047      32017058623                 אילת  32.033076  34.849533\n",
      "1515048      32017058623                 אילת  32.033076  34.849533\n",
      "         provider_and_id accident_yishuv_name   latitude  longitude\n",
      "1027054      12014011374                אשדוד  32.995233  35.100493\n",
      "1027055      12014011374                אשדוד  32.995233  35.100493\n",
      "1082700      12014052114                אשדוד  32.995233  35.100493\n",
      "1082701      12014052114                אשדוד  32.995233  35.100493\n",
      "1153506      12015009170                אשדוד  32.995233  35.100493\n",
      "1153507      12015009170                אשדוד  32.995233  35.100493\n",
      "1153508      12015009170                אשדוד  32.995233  35.100493\n",
      "1153509      12015009170                אשדוד  32.995233  35.100493\n",
      "1448686      12017011201                אשדוד  32.626365  35.321816\n",
      "1448687      12017011201                אשדוד  32.626365  35.321816\n",
      "1596391      32018017621                אשדוד  32.626365  35.321816\n",
      "1596392      32018017621                אשדוד  32.626365  35.321816\n",
      "1607392      32018025964                אשדוד  32.995233  35.100493\n",
      "1607393      32018025964                אשדוד  32.995233  35.100493\n",
      "1680481      32018082237                אשדוד  32.995233  35.100493\n",
      "1680482      32018082237                אשדוד  32.995233  35.100493\n",
      "1750298      12019055015                אשדוד  32.995233  35.100493\n",
      "1750299      12019055015                אשדוד  32.995233  35.100493\n",
      "        provider_and_id accident_yishuv_name   latitude  longitude\n",
      "604414      12011026193               דימונה  33.199954  35.576749\n",
      "604415      12011026193               דימונה  33.199954  35.576749\n",
      "604416      12011026193               דימונה  33.199954  35.576749\n",
      "         provider_and_id accident_yishuv_name   latitude  longitude\n",
      "1522325      12017063872           קדימה-צורן  32.977148  35.538626\n",
      "1522326      12017063872           קדימה-צורן  32.977148  35.538626\n",
      "1522327      12017063872           קדימה-צורן  32.977148  35.538626\n",
      "1671034      12018074859           קדימה-צורן  32.977148  35.538626\n",
      "1671035      12018074859           קדימה-צורן  32.977148  35.538626\n"
     ]
    }
   ],
   "source": [
    "def find_outliers_by_z_scores(data):\n",
    "    for city, rows in data.groupby(CITY):\n",
    "        coords = rows[[X, Y]]\n",
    "        zscores = stats.zscore(coords, axis=None)\n",
    "        zscores = np.nan_to_num(zscores)\n",
    "        # get indices to outliers\n",
    "        outliers = np.argwhere(zscores > Z_SCORE_THRESH)\n",
    "        outlier_rows = outliers[:,0]\n",
    "        if len(outliers) > 0:\n",
    "            outlier_rows = rows.iloc[outlier_rows]\n",
    "            print(outlier_rows[[PROVIDER_AND_ID, CITY, LAT, LONG]])\n",
    "            \n",
    "find_outliers_by_z_scores(filtered)"
   ]
  },
  {
   "cell_type": "code",
   "execution_count": null,
   "metadata": {},
   "outputs": [],
   "source": []
  }
 ],
 "metadata": {
  "kernelspec": {
   "display_name": "Python 3",
   "language": "python",
   "name": "python3"
  },
  "language_info": {
   "codemirror_mode": {
    "name": "ipython",
    "version": 3
   },
   "file_extension": ".py",
   "mimetype": "text/x-python",
   "name": "python",
   "nbconvert_exporter": "python",
   "pygments_lexer": "ipython3",
   "version": "3.7.5"
  }
 },
 "nbformat": 4,
 "nbformat_minor": 2
}
