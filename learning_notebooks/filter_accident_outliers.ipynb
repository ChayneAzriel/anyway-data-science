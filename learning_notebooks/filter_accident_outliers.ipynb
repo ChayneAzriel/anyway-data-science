{
 "cells": [
  {
   "cell_type": "markdown",
   "metadata": {},
   "source": [
    "## Imports"
   ]
  },
  {
   "cell_type": "code",
   "execution_count": 2,
   "metadata": {},
   "outputs": [],
   "source": [
    "import os\n",
    "import sys\n",
    "venv_path = os.environ['VIRTUAL_ENV']\n",
    "sys.path.append(os.path.join(os.environ['VIRTUAL_ENV'], \"lib\\site-packages\"))"
   ]
  },
  {
   "cell_type": "code",
   "execution_count": 156,
   "metadata": {},
   "outputs": [],
   "source": [
    "import numpy as np\n",
    "import pandas as pd\n",
    "from scipy import stats"
   ]
  },
  {
   "cell_type": "markdown",
   "metadata": {},
   "source": [
    "## Consts"
   ]
  },
  {
   "cell_type": "code",
   "execution_count": 143,
   "metadata": {},
   "outputs": [],
   "source": [
    "CITY = \"accident_yishuv_name\"\n",
    "LAT = \"latitude\"\n",
    "LONG = \"longitude\"\n",
    "X = \"x\"\n",
    "Y = \"y\"\n",
    "\n",
    "Z_SCORE_THRESH = 3"
   ]
  },
  {
   "cell_type": "markdown",
   "metadata": {},
   "source": [
    "## Load data"
   ]
  },
  {
   "cell_type": "code",
   "execution_count": 147,
   "metadata": {},
   "outputs": [
    {
     "name": "stderr",
     "output_type": "stream",
     "text": [
      "c:\\users\\asya\\miniconda3\\lib\\site-packages\\IPython\\core\\interactiveshell.py:3058: DtypeWarning: Columns (36,38,40,44,91,93,130,144,153) have mixed types. Specify dtype option on import or set low_memory=False.\n",
      "  interactivity=interactivity, compiler=compiler, result=result)\n"
     ]
    }
   ],
   "source": [
    "csv_path = \"involved_markers_hebrew.csv\"\n",
    "data = pd.read_csv(csv_path)"
   ]
  },
  {
   "cell_type": "code",
   "execution_count": 148,
   "metadata": {},
   "outputs": [],
   "source": [
    "# get only relevant data\n",
    "filtered = data[[ID, CITY, LAT, LONG, X, Y]]\n",
    "print(filtered.head())"
   ]
  },
  {
   "cell_type": "code",
   "execution_count": 284,
   "metadata": {},
   "outputs": [
    {
     "name": "stdout",
     "output_type": "stream",
     "text": [
      "        accident_yishuv_name   latitude  longitude         x         y\n",
      "1160953                 אילת  32.033076  34.849533  185925.0  660034.0\n",
      "1160954                 אילת  32.033076  34.849533  185925.0  660034.0\n",
      "1275071                 אילת  32.033076  34.849533  185925.0  660034.0\n",
      "1397638                 אילת  32.033076  34.849533  185925.0  660034.0\n",
      "1397639                 אילת  32.033076  34.849533  185925.0  660034.0\n",
      "1515047                 אילת  32.033076  34.849533  185925.0  660034.0\n",
      "1515048                 אילת  32.033076  34.849533  185925.0  660034.0\n",
      "        accident_yishuv_name   latitude  longitude         x         y\n",
      "1027054                אשדוד  32.995233  35.100493  209735.0  766684.0\n",
      "1027055                אשדוד  32.995233  35.100493  209735.0  766684.0\n",
      "1082700                אשדוד  32.995233  35.100493  209735.0  766684.0\n",
      "1082701                אשדוד  32.995233  35.100493  209735.0  766684.0\n",
      "1153506                אשדוד  32.995233  35.100493  209735.0  766684.0\n",
      "1153507                אשדוד  32.995233  35.100493  209735.0  766684.0\n",
      "1153508                אשדוד  32.995233  35.100493  209735.0  766684.0\n",
      "1153509                אשדוד  32.995233  35.100493  209735.0  766684.0\n",
      "1448686                אשדוד  32.626365  35.321816  230465.0  725777.0\n",
      "1448687                אשדוד  32.626365  35.321816  230465.0  725777.0\n",
      "1596391                אשדוד  32.626365  35.321816  230465.0  725777.0\n",
      "1596392                אשדוד  32.626365  35.321816  230465.0  725777.0\n",
      "1607392                אשדוד  32.995233  35.100493  209735.0  766684.0\n",
      "1607393                אשדוד  32.995233  35.100493  209735.0  766684.0\n",
      "1680481                אשדוד  32.995233  35.100493  209735.0  766684.0\n",
      "1680482                אשדוד  32.995233  35.100493  209735.0  766684.0\n",
      "1750298                אשדוד  32.995233  35.100493  209735.0  766684.0\n",
      "1750299                אשדוד  32.995233  35.100493  209735.0  766684.0\n",
      "       accident_yishuv_name   latitude  longitude         x         y\n",
      "604414               דימונה  33.199954  35.576749  254165.0  789446.0\n",
      "604415               דימונה  33.199954  35.576749  254165.0  789446.0\n",
      "604416               דימונה  33.199954  35.576749  254165.0  789446.0\n",
      "        accident_yishuv_name   latitude  longitude         x         y\n",
      "1522325           קדימה-צורן  32.977148  35.538626  250689.0  764723.0\n",
      "1522326           קדימה-צורן  32.977148  35.538626  250689.0  764723.0\n",
      "1522327           קדימה-צורן  32.977148  35.538626  250689.0  764723.0\n",
      "1671034           קדימה-צורן  32.977148  35.538626  250689.0  764723.0\n",
      "1671035           קדימה-צורן  32.977148  35.538626  250689.0  764723.0\n"
     ]
    }
   ],
   "source": [
    "# heuristic threshold\n",
    "Z_SCORE_THRESH = 1.3\n",
    "\n",
    "def calculate_z_scores(data):\n",
    "    outlier_rows_inds = []\n",
    "    for city, rows in data.groupby(CITY):\n",
    "        coords = rows[[X, Y]]\n",
    "        zscores = stats.zscore(coords, axis=None)\n",
    "        zscores = np.nan_to_num(zscores)\n",
    "        # get indices to outliers\n",
    "        outliers = np.argwhere(zscores > Z_SCORE_THRESH)\n",
    "        outlier_rows = outliers[:,0]\n",
    "        if len(outliers) > 0:\n",
    "            outlier_rows_inds.extend(outlier_rows)\n",
    "            print(rows.iloc[outlier_rows])\n",
    "    return outlier_rows_inds\n",
    "            \n",
    "inds = calculate_z_scores(filtered)\n",
    "# print(filtered.iloc[inds])"
   ]
  },
  {
   "cell_type": "code",
   "execution_count": null,
   "metadata": {},
   "outputs": [],
   "source": []
  }
 ],
 "metadata": {
  "kernelspec": {
   "display_name": "sadna_venv",
   "language": "python",
   "name": "sadna_venv"
  },
  "language_info": {
   "codemirror_mode": {
    "name": "ipython",
    "version": 3
   },
   "file_extension": ".py",
   "mimetype": "text/x-python",
   "name": "python",
   "nbconvert_exporter": "python",
   "pygments_lexer": "ipython3",
   "version": "3.7.4"
  }
 },
 "nbformat": 4,
 "nbformat_minor": 2
}
