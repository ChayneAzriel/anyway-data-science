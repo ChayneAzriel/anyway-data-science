{
 "cells": [
  {
   "cell_type": "markdown",
   "metadata": {},
   "source": [
    "## Imports"
   ]
  },
  {
   "cell_type": "code",
   "execution_count": 1,
   "metadata": {},
   "outputs": [],
   "source": [
    "# note: must run in virtual environment\n",
    "import os\n",
    "import sys\n",
    "venv_path = os.environ['VIRTUAL_ENV']\n",
    "sys.path.append(os.path.join(os.environ['VIRTUAL_ENV'], \"lib\\site-packages\"))"
   ]
  },
  {
   "cell_type": "code",
   "execution_count": 2,
   "metadata": {},
   "outputs": [],
   "source": [
    "import numpy as np\n",
    "import pandas as pd\n",
    "from scipy import stats"
   ]
  },
  {
   "cell_type": "markdown",
   "metadata": {},
   "source": [
    "## Consts"
   ]
  },
  {
   "cell_type": "code",
   "execution_count": 3,
   "metadata": {},
   "outputs": [],
   "source": [
    "PROVIDER_AND_ID = \"provider_and_id\"\n",
    "CITY = \"accident_yishuv_name\"\n",
    "LAT = \"latitude\"\n",
    "LONG = \"longitude\"\n",
    "X = \"x\"\n",
    "Y = \"y\"\n",
    "\n",
    "Z_SCORE_THRESH = 3"
   ]
  },
  {
   "cell_type": "markdown",
   "metadata": {},
   "source": [
    "## Load data"
   ]
  },
  {
   "cell_type": "code",
   "execution_count": null,
   "metadata": {},
   "outputs": [
    {
     "name": "stderr",
     "output_type": "stream",
     "text": [
      "c:\\users\\asya\\appdata\\local\\programs\\python\\python37\\lib\\site-packages\\IPython\\core\\interactiveshell.py:3051: DtypeWarning: Columns (36,38,40,44,91,93,130,144,153) have mixed types. Specify dtype option on import or set low_memory=False.\n",
      "  interactivity=interactivity, compiler=compiler, result=result)\n"
     ]
    }
   ],
   "source": [
    "csv_path = \"involved_markers_hebrew.csv\"\n",
    "data = pd.read_csv(csv_path)"
   ]
  },
  {
   "cell_type": "code",
   "execution_count": null,
   "metadata": {},
   "outputs": [],
   "source": [
    "# get only relevant data\n",
    "filtered = data[[PROVIDER_AND_ID, CITY, LAT, LONG, X, Y]]\n",
    "print(filtered.head())"
   ]
  },
  {
   "cell_type": "markdown",
   "metadata": {},
   "source": [
    "## Find outliers by zscore"
   ]
  },
  {
   "cell_type": "code",
   "execution_count": null,
   "metadata": {},
   "outputs": [],
   "source": [
    "# heuristic threshold\n",
    "Z_SCORE_THRESH = 1.3\n",
    "\n",
    "def find_outliers_by_z_scores(data):\n",
    "    for city, rows in data.groupby(CITY):\n",
    "        coords = rows[[X, Y]]\n",
    "        zscores = stats.zscore(coords, axis=None)\n",
    "        zscores = np.nan_to_num(zscores)\n",
    "        # get indices to outliers\n",
    "        outliers = np.argwhere(zscores > Z_SCORE_THRESH)\n",
    "        outlier_rows = outliers[:,0]\n",
    "        if len(outliers) > 0:\n",
    "            outlier_rows = rows.iloc[outlier_rows]\n",
    "            print(outlier_rows[[PROVIDER_AND_ID, CITY, LAT, LONG]])\n",
    "            \n",
    "find_outliers_by_z_scores(filtered)"
   ]
  },
  {
   "cell_type": "code",
   "execution_count": null,
   "metadata": {},
   "outputs": [],
   "source": []
  }
 ],
 "metadata": {
  "kernelspec": {
   "display_name": "Python 3",
   "language": "python",
   "name": "python3"
  },
  "language_info": {
   "codemirror_mode": {
    "name": "ipython",
    "version": 3
   },
   "file_extension": ".py",
   "mimetype": "text/x-python",
   "name": "python",
   "nbconvert_exporter": "python",
   "pygments_lexer": "ipython3",
   "version": "3.7.5"
  }
 },
 "nbformat": 4,
 "nbformat_minor": 2
}
