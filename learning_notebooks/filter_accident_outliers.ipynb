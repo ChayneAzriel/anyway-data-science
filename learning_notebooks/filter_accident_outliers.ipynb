{
 "cells": [
  {
   "cell_type": "markdown",
   "metadata": {},
   "source": [
    "## Imports"
   ]
  },
  {
   "cell_type": "code",
   "execution_count": 1,
   "metadata": {},
   "outputs": [],
   "source": [
    "# note: must run in virtual environment\n",
    "import os\n",
    "import sys\n",
    "venv_path = os.environ['VIRTUAL_ENV']\n",
    "sys.path.append(os.path.join(os.environ['VIRTUAL_ENV'], \"lib\\site-packages\"))"
   ]
  },
  {
   "cell_type": "code",
   "execution_count": 2,
   "metadata": {},
   "outputs": [],
   "source": [
    "import numpy as np\n",
    "import matplotlib.pyplot as plt\n",
    "import pandas as pd\n",
    "from scipy import stats\n",
    "%matplotlib inline"
   ]
  },
  {
   "cell_type": "markdown",
   "metadata": {},
   "source": [
    "## Consts"
   ]
  },
  {
   "cell_type": "code",
   "execution_count": 3,
   "metadata": {},
   "outputs": [],
   "source": [
    "PROVIDER_AND_ID = \"provider_and_id\"\n",
    "CITY = \"accident_yishuv_name\"\n",
    "LAT = \"latitude\"\n",
    "LONG = \"longitude\"\n",
    "X = \"x\"\n",
    "Y = \"y\""
   ]
  },
  {
   "cell_type": "markdown",
   "metadata": {},
   "source": [
    "## Load data"
   ]
  },
  {
   "cell_type": "code",
   "execution_count": 4,
   "metadata": {},
   "outputs": [
    {
     "name": "stderr",
     "output_type": "stream",
     "text": [
      "c:\\users\\asya\\appdata\\local\\programs\\python\\python37\\lib\\site-packages\\IPython\\core\\interactiveshell.py:3051: DtypeWarning: Columns (36,38,40,44,91,93,130,144,153) have mixed types. Specify dtype option on import or set low_memory=False.\n",
      "  interactivity=interactivity, compiler=compiler, result=result)\n"
     ]
    }
   ],
   "source": [
    "csv_path = \"involved_markers_hebrew.csv\"\n",
    "data = pd.read_csv(csv_path)"
   ]
  },
  {
   "cell_type": "code",
   "execution_count": 5,
   "metadata": {},
   "outputs": [],
   "source": [
    "# get only relevant data\n",
    "filtered = data[[PROVIDER_AND_ID, CITY, LAT, LONG, X, Y]]"
   ]
  },
  {
   "cell_type": "markdown",
   "metadata": {},
   "source": [
    "## Find outliers by zscore"
   ]
  },
  {
   "cell_type": "code",
   "execution_count": 6,
   "metadata": {},
   "outputs": [],
   "source": [
    "def get_outliers_by_z_scores(data, zscore_thresh):\n",
    "    res = []\n",
    "    for city, rows in data.groupby(CITY):\n",
    "        coords = rows[[X, Y]]\n",
    "        # calculate zscores for each column\n",
    "        zscores = stats.zscore(coords, axis = 0)\n",
    "        zscores = np.nan_to_num(zscores)\n",
    "        zscores = np.abs(zscores)\n",
    "        # get indices to outliers\n",
    "        outliers = np.argwhere(zscores > zscore_thresh)\n",
    "        outlier_rows = np.unique(outliers[:,0])\n",
    "        if len(outliers) > 0:\n",
    "            outlier_rows = rows.iloc[outlier_rows]\n",
    "            res.append(outlier_rows[[PROVIDER_AND_ID, CITY, LAT, LONG]])\n",
    "    return pd.concat(res)"
   ]
  },
  {
   "cell_type": "markdown",
   "metadata": {},
   "source": [
    "## Visualize effect of different thresholds"
   ]
  },
  {
   "cell_type": "code",
   "execution_count": 7,
   "metadata": {},
   "outputs": [
    {
     "name": "stderr",
     "output_type": "stream",
     "text": [
      "C:\\Users\\Asya\\PycharmProjects\\sadna\\anyway_venv\\lib\\site-packages\\scipy\\stats\\stats.py:2315: RuntimeWarning: invalid value encountered in true_divide\n",
      "  return (a - mns) / sstd\n"
     ]
    },
    {
     "data": {
      "image/png": "[encoded data removed]",
      "text/plain": [
       "<Figure size 432x288 with 1 Axes>"
      ]
     },
     "metadata": {
      "needs_background": "light"
     },
     "output_type": "display_data"
    },
    {
     "data": {
      "image/png": "[encoded data removed]",
      "text/plain": [
       "<Figure size 432x288 with 1 Axes>"
      ]
     },
     "metadata": {
      "needs_background": "light"
     },
     "output_type": "display_data"
    }
   ],
   "source": [
    "def plot_outliers_by_thresh(low, high):\n",
    "    threshs = range(low, high+1)\n",
    "    num_outliers = []\n",
    "    for i in threshs:\n",
    "        outliers = get_outliers_by_z_scores(filtered, i)\n",
    "        num_outliers.append(len(outliers))\n",
    "    plt.title(\"Number of outliers by threshold value\")\n",
    "    plt.plot(threshs, num_outliers)\n",
    "    plt.show()\n",
    "        \n",
    "plot_outliers_by_thresh(3,10)\n",
    "plot_outliers_by_thresh(7,15)"
   ]
  },
  {
   "cell_type": "markdown",
   "metadata": {},
   "source": [
    "## Pick threshold and save output"
   ]
  },
  {
   "cell_type": "code",
   "execution_count": 8,
   "metadata": {},
   "outputs": [],
   "source": [
    "ZSCORE_THRESH = 7\n",
    "\n",
    "outliers = get_outliers_by_z_scores(filtered, ZSCORE_THRESH)\n",
    "outliers.to_csv(\"outlier_points.csv\", header=True, index=False, encoding='utf-8')"
   ]
  }
 ],
 "metadata": {
  "kernelspec": {
   "display_name": "Python 3",
   "language": "python",
   "name": "python3"
  },
  "language_info": {
   "codemirror_mode": {
    "name": "ipython",
    "version": 3
   },
   "file_extension": ".py",
   "mimetype": "text/x-python",
   "name": "python",
   "nbconvert_exporter": "python",
   "pygments_lexer": "ipython3",
   "version": "3.7.5"
  }
 },
 "nbformat": 4,
 "nbformat_minor": 2
}
