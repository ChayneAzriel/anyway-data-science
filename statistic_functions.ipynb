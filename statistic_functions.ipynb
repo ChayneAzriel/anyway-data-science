{
 "cells": [
  {
   "cell_type": "code",
   "execution_count": 1,
   "metadata": {},
   "outputs": [],
   "source": [
    "import pandas as pd\n",
    "import matplotlib.pyplot as plt\n",
    "import numpy as np\n",
    "import scipy\n",
    "from scipy import stats\n",
    "from scipy.stats import chi2\n",
    "\n",
    "#general discussion- differences between tables, focus on minor accidents or fatal, matching road sections or creating new ones\n",
    "#best way to analyze each variable"
   ]
  },
  {
   "cell_type": "code",
   "execution_count": 2,
   "metadata": {},
   "outputs": [],
   "source": [
    "#importing data\n",
    "file_path = 'involved_markers_hebrew.csv'\n",
    "involved_markers_hebrew = pd.read_csv(file_path)\n",
    "data = involved_markers_hebrew"
   ]
  },
  {
   "cell_type": "code",
   "execution_count": null,
   "metadata": {},
   "outputs": [],
   "source": [
    "#data functions\n",
    "def filtered_data(data, column):\n",
    "    data_filtered = data.copy()\n",
    "    data_filtered.sort_values(column)\n",
    "    data_filtered.drop_duplicates(subset = column, keep = 'first', inplace = True)\n",
    "    return data_filtered\n",
    "    \n",
    "def road_section(section_no):\n",
    "    road_section = (data['road_segment_id']) == int(section_no)\n",
    "    data_section = data[road_section]\n",
    "    return data_section\n",
    "def road_type(data,type_no):\n",
    "    type_no = (data['road_type']) == int(type_no)\n",
    "    data_road = data[type_no]\n",
    "    return data_road\n",
    "def road_street(street_no):\n",
    "    road_street = (data['street1']) == int(street_no)\n",
    "    data_street = data[road_street]\n",
    "    return data_street\n",
    "\n",
    "def data_years(data,start_year, end_year):\n",
    "    data_years = (data['accident_year'] >= int(start_year)) & (data['accident_year'] <= int(end_year))\n",
    "    return data[data_years]\n",
    "\n",
    "def data_fatal(data):\n",
    "    data_fatal = data[data['accident_severity'] == 1]\n",
    "    return data_fatal\n",
    "\n",
    "def fatal_road_section(section_no):\n",
    "    road_section = (data_fatal['road_segment_id']) == int(section_no)\n",
    "    data_fatal_section = data_fatal[road_section]\n",
    "    return data_fatal_section"
   ]
  },
  {
   "cell_type": "code",
   "execution_count": 4,
   "metadata": {},
   "outputs": [],
   "source": [
    "#creating unique data for markers analysis (reduces from 1897266 to 771638 [duplicates = 1125628])\n",
    "data_filtered = filtered_data(data, 'provider_and_id')"
   ]
  },
  {
   "cell_type": "markdown",
   "metadata": {},
   "source": [
    "#creating categorical columns"
   ]
  },
  {
   "cell_type": "code",
   "execution_count": 5,
   "metadata": {},
   "outputs": [],
   "source": [
    "#return columns to binary - data['accident_type']=data['accident_type'].replace(to_replace=[2,3],value=0)\n",
    "data['accident_type_1'] = data['accident_type'].replace(to_replace=[2,3,4,5,6,7,8,9,10,11,12,13,14,15,16,17,18,19,20],value=0)"
   ]
  },
  {
   "cell_type": "code",
   "execution_count": 6,
   "metadata": {},
   "outputs": [],
   "source": [
    "#return columns to binary - data['is_head-on'] = np.where(data['accident_type']==5,1,0) # type 5 is headon haziti\n",
    "data['is_head-on'] = data['accident_type'].replace(to_replace = {1:0,2:0,3:0,4:0,5:1,6:0,7:0,8:0,9:0,\n",
    "                                                           10:0,11:0,12:0,13:0,14:0,15:0,16:0,17:0,\n",
    "                                                           18:0,19:0,20:0}) "
   ]
  },
  {
   "cell_type": "code",
   "execution_count": 7,
   "metadata": {},
   "outputs": [],
   "source": [
    "#return columns to binary - data['is_weekend'] = np.where(data['day_in_week']>5,1,0) #Fri and Sat are weekends\n",
    "#SUG_YOM‭\n",
    "data['is_weekend'] = data['day_in_week'].replace(to_replace ={1:0,2:0,3:0,4:0,5:0,6:1,7:1})\n",
    "\n",
    "#not binary - define as categorical\n",
    "data['day_in_week'] = data['day_in_week'].astype('category')"
   ]
  },
  {
   "cell_type": "code",
   "execution_count": 8,
   "metadata": {},
   "outputs": [],
   "source": [
    "#return columns to binary - data['is_daytime'] = data['day_night'].replace(5,0)#convert night (5) to 0\n",
    "data['is_daytime'] = data['day_night'].replace(to_replace =[5], value = 0)"
   ]
  },
  {
   "cell_type": "code",
   "execution_count": 9,
   "metadata": {},
   "outputs": [],
   "source": [
    "#return columns to binary - data['is_hard'] = data['accident_severity'].replace(3,0).replace([1,2],1) # hard accidents will get 1\n",
    "data['is_hard'] = data['accident_severity'].replace({2:1,3:0})"
   ]
  },
  {
   "cell_type": "code",
   "execution_count": 10,
   "metadata": {},
   "outputs": [],
   "source": [
    "#return columns to binary - data['is_jew'] = data['population_type'].replace([2,3,4,''],0)#convert non jews to 0\n",
    "data['is_jew'] = data['population_type'].replace(to_replace = [2,3,4,''], value = 0)"
   ]
  },
  {
   "cell_type": "code",
   "execution_count": 11,
   "metadata": {},
   "outputs": [],
   "source": [
    "#create different data frames by road section and road type\n",
    "#road_segment_name: כניסה למצפה שלם - צומת שדי תרומות\n",
    "data_900810 = road_section(900810)\n",
    "\n",
    "data_4 = road_type(data, 4)\n",
    "road_section_drop = data_4.road_segment_id != (900810)\n",
    "data_4 = data_4[road_section_drop]"
   ]
  },
  {
   "cell_type": "code",
   "execution_count": 12,
   "metadata": {},
   "outputs": [],
   "source": [
    "#create different data frames by road street and road type\n",
    "#street1_hebrew: דרך בגין - ירושלים\n",
    "data_1105 = road_street(1105)\n",
    "\n",
    "data_2 = road_type(data, 2)\n",
    "road_section_drop = data_2.street1 != (1105)\n",
    "data_2 = data_2[road_section_drop]"
   ]
  },
  {
   "cell_type": "code",
   "execution_count": 13,
   "metadata": {},
   "outputs": [],
   "source": [
    "#create different data frames by road section and road type\n",
    "#road_segment_name: מחלף לקייה - צומת ערד\n",
    "data_310020 = road_section(310020)\n",
    "\n",
    "#data_4 = road_type(data, 4)\n",
    "#road_section_drop = data_4.road_segment_id != (310020)\n",
    "#data_4 = data_4[road_section_drop]\n"
   ]
  },
  {
   "cell_type": "code",
   "execution_count": 26,
   "metadata": {},
   "outputs": [],
   "source": [
    "'''\n",
    "function to check for every category if there are less accidents over the years\n",
    "*please notice this isn't a statistic test, there's still a possibility the difference is big enough for reporting \n",
    "input: data and column name(str)\n",
    "returns dataframe of Boolean, True means the number of accidents declined over the years in that category \n",
    "''' \n",
    "def year_diff(data, column):\n",
    "    #creating data for each period\n",
    "    data_08_10 = data_years(data, 2008, 2010)\n",
    "    data_11_13 = data_years(data, 2011, 2013)\n",
    "    data_14_16 = data_years(data, 2014, 2016)\n",
    "    data_17_19 = data_years(data, 2017, 2019)\n",
    "    #caculating the differences between 4 periods (weights added)\n",
    "    return (((data_11_13.groupby(column).size()- data_08_10.groupby(column).size()) /\n",
    "             ((data_11_13.groupby(column).size()+ data_08_10.groupby(column).size())/2))*0.15).round(2) + (((data_14_16.groupby(column).size()- data_11_13.groupby(column).size()) /\n",
    "     ((data_14_16.groupby(column).size()+ data_11_13.groupby(column).size())/2))*0.25).round(2) +(((data_17_19.groupby(column).size()- data_14_16.groupby(column).size()) /\n",
    "     ((data_17_19.groupby(column).size()+ data_14_16.groupby(column).size())/2))*0.6).round(2) <=  - 0.25"
   ]
  },
  {
   "cell_type": "code",
   "execution_count": 27,
   "metadata": {},
   "outputs": [
    {
     "data": {
      "text/plain": [
       "accident_severity\n",
       "1     True\n",
       "2    False\n",
       "3     True\n",
       "dtype: bool"
      ]
     },
     "execution_count": 27,
     "metadata": {},
     "output_type": "execute_result"
    }
   ],
   "source": [
    "year_diff(data_310020, 'accident_severity') "
   ]
  },
  {
   "cell_type": "code",
   "execution_count": 178,
   "metadata": {},
   "outputs": [
    {
     "data": {
      "text/plain": [
       "<matplotlib.axes._subplots.AxesSubplot at 0x91cd3e48>"
      ]
     },
     "execution_count": 178,
     "metadata": {},
     "output_type": "execute_result"
    },
    {
     "data": {
      "image/png": "[encoded data removed]",
      "text/plain": [
       "<Figure size 432x288 with 1 Axes>"
      ]
     },
     "metadata": {},
     "output_type": "display_data"
    }
   ],
   "source": [
    "#presenting histogram for examining the difference between years\n",
    "data_310020['accident_year'].hist(bins = 12, range =(2008, 2019))"
   ]
  },
  {
   "cell_type": "markdown",
   "metadata": {},
   "source": [
    "#build function that finds the resource of the significance. find the differencess between the precents of observed and expected"
   ]
  },
  {
   "cell_type": "code",
   "execution_count": 66,
   "metadata": {},
   "outputs": [],
   "source": [
    "'''\n",
    "function to implement chi square \n",
    "input: data X 2(df) and column name(str)\n",
    "if significant\n",
    "returns dataframe of both\n",
    "'''\n",
    "def chi_test(data1, data2, column):\n",
    "    #df for data1\n",
    "    df1 = data1.groupby(column).size()\n",
    "    df = pd.DataFrame(df1)\n",
    "    df_idx = df.reset_index(inplace = False)\n",
    "    df.columns =['column1']\n",
    "    #df for data2\n",
    "    df2 = data2.groupby(column).size()\n",
    "    table = pd.DataFrame(df2)\n",
    "    df_idx = table.reset_index(inplace = False)\n",
    "    #combining both df\n",
    "    df.insert(1,'column2',table)\n",
    "    df = df.fillna(value = 0)\n",
    "\n",
    "    #finding critical value\n",
    "    from scipy.stats import chi2\n",
    "    significance = 0.01\n",
    "    p = 1 - significance\n",
    "    dof = stats.chi2_contingency(df)[2]\n",
    "    critical_value = chi2.ppf(p, dof)\n",
    "    #comparing chi and significance values \n",
    "    if (int(stats.chi2_contingency(df, correction=True, lambda_=\"pearson\")[1].round(2)) - significance) <= 0.05:\n",
    "        if int(stats.chi2_contingency(df, correction=True, lambda_=\"pearson\")[0].round(2)) - critical_value >= 0.1:\n",
    "            return df\n",
    "        else:\n",
    "            return None   "
   ]
  },
  {
   "cell_type": "code",
   "execution_count": 15,
   "metadata": {},
   "outputs": [],
   "source": [
    "'''\n",
    "function to find chi square source of significance\n",
    "input:df from chi_test function\n",
    "if df is not None\n",
    "returns table of diff between obs and exp precents, and index of the biggest difference\n",
    "'''\n",
    "def chi_sig(df):\n",
    "    if df is not None:\n",
    "        obs = df.copy()\n",
    "        obs.reset_index(inplace = True)\n",
    "        #creating sums\n",
    "        sum_column1 = sum(obs['column1'])\n",
    "        sum_column2 = sum(obs['column2'])\n",
    "        #creating precents for obs\n",
    "        obs['column1_per'] = obs['column1'].apply(lambda x: pd.Series((x/sum_column1*100), index = ['column1_per']))\n",
    "        obs['column2_per'] = obs['column2'].apply(lambda x: pd.Series((x/sum_column2*100), index = ['column2_per']))\n",
    "        #creating precents for exp\n",
    "        exp = pd.DataFrame(stats.chi2_contingency(df, correction=True, lambda_=\"pearson\")[3][:,0:2].round(2))\n",
    "        exp['column1_per'] = exp[0].apply(lambda x: pd.Series((x/sum_column1*100), index = ['column1_per']))\n",
    "        exp['column2_per'] = exp[1].apply(lambda x: pd.Series((x/sum_column2*100), index = ['column1_per']))\n",
    "\n",
    "        return(obs.iloc[:, 3:5] - exp.iloc[:, 2:4]) , abs(obs.iloc[:, 3:5] - exp.iloc[:, 2:4]).idxmax()\n",
    "    else:\n",
    "        return None"
   ]
  },
  {
   "cell_type": "code",
   "execution_count": 16,
   "metadata": {},
   "outputs": [
    {
     "data": {
      "text/plain": [
       "(   column1_per  column2_per\n",
       " 0    -0.040436     6.440897\n",
       " 1    -0.056315     8.970233\n",
       " 2     0.096751   -15.411130, column1_per    2\n",
       " column2_per    2\n",
       " dtype: int64)"
      ]
     },
     "execution_count": 16,
     "metadata": {},
     "output_type": "execute_result"
    }
   ],
   "source": [
    "df = chi_test(data_4, data_900810, 'accident_severity')\n",
    "chi_sig(df)"
   ]
  },
  {
   "cell_type": "markdown",
   "metadata": {},
   "source": [
    "#build function for fisher and t test"
   ]
  },
  {
   "cell_type": "code",
   "execution_count": 30,
   "metadata": {},
   "outputs": [],
   "source": [
    "'''\n",
    "function to implement fisher test \n",
    "input: data X 2(df) and column name (str)\n",
    "if significant\n",
    "returns dataframe of both and significance\n",
    "'''\n",
    "def fisher_test(data1, data2, column):\n",
    "    #df for data1\n",
    "    df1 = data1.groupby(column).size()\n",
    "    df = pd.DataFrame(df1)\n",
    "    df_idx = df.reset_index(inplace = False)\n",
    "    df.columns =['column1']\n",
    "    #df for data2\n",
    "    df2 = data2.groupby(column).size()\n",
    "    table = pd.DataFrame(df2)\n",
    "    df_idx = table.reset_index(inplace = False)\n",
    "    #combining both df\n",
    "    df.insert(1,'column2',table)\n",
    "\n",
    "    #comparing significance values\n",
    "    significance = 0.01\n",
    "    if (int(stats.fisher_exact(df, alternative='greater')[1].round(2)) - significance) <= 0.01:\n",
    "            return df, stats.fisher_exact(df, alternative='greater')[1].round(2)\n",
    "    else:\n",
    "            return None"
   ]
  },
  {
   "cell_type": "code",
   "execution_count": 28,
   "metadata": {},
   "outputs": [],
   "source": [
    "'''\n",
    "function to present differences of precents\n",
    "input:df from fisher_test function\n",
    "if df is not None\n",
    "returns table of percents for both columns\n",
    "'''\n",
    "def fisher_sig(df):\n",
    "    if df is not None:\n",
    "        obs = df.copy()\n",
    "        obs.reset_index(inplace = True)\n",
    "        #creating sums\n",
    "        sum_column1 = sum(obs['column1'])\n",
    "        sum_column2 = sum(obs['column2'])\n",
    "        #creating precents for obs\n",
    "        obs['column1_per'] = obs['column1'].apply(lambda x: pd.Series((x/sum_column1*100), index = ['column1_per']))\n",
    "        obs['column2_per'] = obs['column2'].apply(lambda x: pd.Series((x/sum_column2*100), index = ['column2_per']))\n",
    "\n",
    "        return obs.iloc[:,3:5]\n",
    "    else:\n",
    "        return None"
   ]
  },
  {
   "cell_type": "code",
   "execution_count": 23,
   "metadata": {},
   "outputs": [
    {
     "data": {
      "text/plain": [
       "(            column1  column2\n",
       " is_head-on                  \n",
       " 0            354179     1921\n",
       " 1             15047      397, 0.0,    column1_per  column2_per\n",
       " 0    95.924718    82.873167\n",
       " 1     4.075282    17.126833)"
      ]
     },
     "execution_count": 23,
     "metadata": {},
     "output_type": "execute_result"
    }
   ],
   "source": [
    "df, sig = fisher_test(data_4, data_900810, 'is_head-on')\n",
    "df, sig, fisher_sig(df)"
   ]
  },
  {
   "cell_type": "code",
   "execution_count": 24,
   "metadata": {},
   "outputs": [],
   "source": [
    "'''\n",
    "function for recognizing the distribution type\n",
    "input: data X 2(df), column name(str)\n",
    "returns distribution type(str)\n",
    "'''\n",
    "def dist_type(data1, data2, column):\n",
    "    mean1 = data1.groupby([column]).size().mean()\n",
    "    median1 = data1.groupby([column]).size().median()\n",
    "    mean2 = data2.groupby([column]).size().mean()\n",
    "    median2 = data2.groupby([column]).size().median()\n",
    "    if abs((mean1 - median1)/ ((mean1 + median1)/2)) < 0.1 :\n",
    "        if abs((mean2 - median2)/ ((mean2 + median2)/2)) < 0.1:\n",
    "            return 'mean'\n",
    "        else:\n",
    "            return 'median'"
   ]
  },
  {
   "cell_type": "code",
   "execution_count": 25,
   "metadata": {},
   "outputs": [
    {
     "data": {
      "text/plain": [
       "'mean'"
      ]
     },
     "execution_count": 25,
     "metadata": {},
     "output_type": "execute_result"
    }
   ],
   "source": [
    "dist_type(data_4, data_900810, 'accident_year')"
   ]
  },
  {
   "cell_type": "code",
   "execution_count": 67,
   "metadata": {},
   "outputs": [],
   "source": [
    "'''\n",
    "function to implement T test \n",
    "input: data X 2(df), column name(str) and data center, for normal distribution - 'mean' \n",
    "unnormal distributions and categorical - 'median'\n",
    "preformes levene test for equal variance\n",
    "if significant\n",
    "returns dataframe of both and significance\n",
    "'''\n",
    "def t_test(data1, data2, column, center = 'median'):\n",
    "    levene = stats.levene(data1[column] ,data2[column], center = center)\n",
    "    if levene[1] < 0.01:\n",
    "        equal_var = False\n",
    "    else:\n",
    "        equal_var = True\n",
    "    return stats.ttest_ind(data1[column] ,data2[column], equal_var = equal_var)[1].round(2)"
   ]
  },
  {
   "cell_type": "code",
   "execution_count": 27,
   "metadata": {},
   "outputs": [
    {
     "data": {
      "text/plain": [
       "0.17"
      ]
     },
     "execution_count": 27,
     "metadata": {},
     "output_type": "execute_result"
    }
   ],
   "source": [
    "t_test(data_4, data_900810, 'day_in_week')"
   ]
  },
  {
   "cell_type": "code",
   "execution_count": 68,
   "metadata": {},
   "outputs": [
    {
     "data": {
      "text/plain": [
       "0.0"
      ]
     },
     "execution_count": 68,
     "metadata": {},
     "output_type": "execute_result"
    }
   ],
   "source": [
    "t_test(data_2, data_1105, 'accident_year', 'mean')"
   ]
  }
 ],
 "metadata": {
  "kernelspec": {
   "display_name": "Python 3",
   "language": "python",
   "name": "python3"
  },
  "language_info": {
   "codemirror_mode": {
    "name": "ipython",
    "version": 3
   },
   "file_extension": ".py",
   "mimetype": "text/x-python",
   "name": "python",
   "nbconvert_exporter": "python",
   "pygments_lexer": "ipython3",
   "version": "3.6.5"
  }
 },
 "nbformat": 4,
 "nbformat_minor": 2
}
